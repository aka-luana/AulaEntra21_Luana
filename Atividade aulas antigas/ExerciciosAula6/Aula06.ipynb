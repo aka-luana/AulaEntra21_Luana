{
  "nbformat": 4,
  "nbformat_minor": 0,
  "metadata": {
    "colab": {
      "name": "Aula06.ipynb",
      "provenance": []
    },
    "kernelspec": {
      "name": "python3",
      "display_name": "Python 3"
    }
  },
  "cells": [
    {
      "cell_type": "markdown",
      "metadata": {
        "id": "QSJRa4ACyCga",
        "colab_type": "text"
      },
      "source": [
        "<h1><b>Execicios 01</b></h1>\n",
        "\n",
        "Escreva um programa que calcule a porcentagem de comissão de vendedores com as seguintes condições\n",
        "\n",
        "Venda Total<br>\n",
        "de R\\$ 0.00 a R\\$ 30000.00 - 0%<br>\n",
        "de R\\$ 30000.01 a R\\$ 50000.00 - 1.5%<br>\n",
        "de R\\$ 50000.01 a R\\$ 100000.00 - 2.5%<br>\n",
        "Acima de R\\$ 100000.00 - 3.5%<br>"
      ]
    },
    {
      "cell_type": "code",
      "metadata": {
        "id": "P9bKKl88xGKO",
        "colab_type": "code",
        "colab": {}
      },
      "source": [
        ""
      ],
      "execution_count": null,
      "outputs": []
    },
    {
      "cell_type": "markdown",
      "metadata": {
        "id": "F1E1QY3kySyI",
        "colab_type": "text"
      },
      "source": [
        "<h1><b>Execicios 02</b></h1>\n",
        "\n",
        "Escreva um programa que receba 4 notas e calcule a média.<br>\n",
        "Mostre a seguinte mensagem conforme a media final.\n",
        "\n",
        "Media Final<br>\n",
        "de 0 a 5 - Reprovado<br>\n",
        "de 5 a 6.5 - Recuperação<br>\n",
        "de 6.5 a 9 - Aprovado<br>\n",
        "Acima de 9 - Aprovado com louvor<br>"
      ]
    },
    {
      "cell_type": "code",
      "metadata": {
        "id": "442L8_lHy80J",
        "colab_type": "code",
        "colab": {}
      },
      "source": [
        ""
      ],
      "execution_count": null,
      "outputs": []
    },
    {
      "cell_type": "markdown",
      "metadata": {
        "id": "wjVlXRF2y9qj",
        "colab_type": "text"
      },
      "source": [
        "<h1><b>Execicios 03</b></h1>\n",
        "\n",
        "Escreva um programa que contenha um menu com 4 opções:<br>\n",
        "A) soma<br>\n",
        "B) média<br>\n",
        "C) divisão<br>\n",
        "D) Sair<br>\n",
        "\n",
        "As opções podem ser escolhidas com as letras maiusculas ou minusculas.\n",
        "\n",
        "Para a opção soma, deve solicitar 2 números, fazer a soma e mostrar o resultado.\n",
        "\n",
        "Para a opção média, deve solicitar 4 números, fazer a média e mostrar os resultados.\n",
        "\n",
        "Para a opção divisão, deve solicitar 2 números, dividir o primeiro pelo segundo e montrar o resultado. Caso o segundo for igual a 0, então deve mostrar o a mensagem \"Erro! Não pode dividir por ZERO!\"\n",
        "\n",
        "Para a opção sair, deve aparecer a mensagem: \"Muito Obrigado e Volte sempre!\"\n"
      ]
    },
    {
      "cell_type": "code",
      "metadata": {
        "id": "51J1OiFu1buY",
        "colab_type": "code",
        "colab": {}
      },
      "source": [
        ""
      ],
      "execution_count": null,
      "outputs": []
    },
    {
      "cell_type": "markdown",
      "metadata": {
        "id": "1dW6_7Jg1caw",
        "colab_type": "text"
      },
      "source": [
        "<h1><b>Execicios 04</b></h1>\n",
        "<br> Exercicio retirado do site <\\https://wiki.python.org.br/EstruturaDeDecisao\\>\n",
        "\n",
        "Faça um Programa que peça os 3 lados de um triângulo. O programa deverá informar se os valores podem ser um triângulo. Indique, caso os lados formem um triângulo, se o mesmo é: equilátero, isósceles ou escaleno.\n",
        "Dicas:\n",
        "\n",
        "Três lados formam um triângulo quando a soma de quaisquer dois lados for maior que o terceiro;\n",
        "\n",
        "Triângulo Equilátero: três lados iguais;\n",
        "\n",
        "Triângulo Isósceles: quaisquer dois lados iguais;\n",
        "\n",
        "Triângulo Escaleno: três lados diferentes;"
      ]
    },
    {
      "cell_type": "code",
      "metadata": {
        "id": "qFKZ7VSm1jm6",
        "colab_type": "code",
        "colab": {}
      },
      "source": [
        ""
      ],
      "execution_count": null,
      "outputs": []
    },
    {
      "cell_type": "code",
      "metadata": {
        "id": "X8hFBzp71kix",
        "colab_type": "code",
        "colab": {}
      },
      "source": [
        ""
      ],
      "execution_count": null,
      "outputs": []
    }
  ]
}