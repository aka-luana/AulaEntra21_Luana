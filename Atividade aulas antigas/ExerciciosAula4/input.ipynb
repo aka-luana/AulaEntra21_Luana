{
 "cells": [
  {
   "cell_type": "markdown",
   "metadata": {},
   "source": [
    "\n",
    "\n",
    "---\n",
    "\n",
    "\n",
    "<h1><b><center>Uso do input()</center></b></h1>\n",
    "\n",
    "\n",
    "---\n",
    "\n"
   ]
  },
  {
   "cell_type": "markdown",
   "metadata": {},
   "source": [
    "A função input() serve para receber um valor pelo teclado.<br>\n",
    "Ele poder mostrar uma mensagem para o usuário.<br>\n",
    "Não se esqueça de usar uma variável para guardar o valor que o usuário digitou."
   ]
  },
  {
   "cell_type": "code",
   "execution_count": null,
   "metadata": {},
   "outputs": [],
   "source": [
    "# Solicitando um nome para o usuário\n",
    "\n",
    "nome = input(\"Digite o seu nome: \")\n",
    "\n",
    "# É importante sempre ter uma variável para receber o valor do input(), caso contrário o valor será perdido!\n",
    "# Como salvamos o que o usuário escreveu, fica fácil trabalhar com a variável...\n",
    "\n",
    "print(\"Olá \", nome)\n"
   ]
  },
  {
   "cell_type": "markdown",
   "metadata": {},
   "source": [
    "<h1><b>Exercicio 5</b></h1>\n",
    "\n",
    "Faça um programa que peça o nome do cliente e depois mostre uma mensagem de boas vindas.\n"
   ]
  },
  {
   "cell_type": "code",
   "execution_count": null,
   "metadata": {},
   "outputs": [],
   "source": []
  },
  {
   "cell_type": "markdown",
   "metadata": {},
   "source": [
    "<h1><b>Exercicio 6</b></h1>\n",
    "\n",
    "Escreva um programa que peça o nome e a idade do cliente.\n",
    "\n",
    "Depois mostre uma mensagem com o nome e a idade do cliente dando boas vindas."
   ]
  },
  {
   "cell_type": "code",
   "execution_count": null,
   "metadata": {},
   "outputs": [],
   "source": []
  },
  {
   "cell_type": "markdown",
   "metadata": {},
   "source": [
    "<h1><b>Exercicio 7</b></h1>\n",
    "Escreva um programa que peça o nome e o sobrenome do cliente e mostre na tela um em cada linha.\n"
   ]
  },
  {
   "cell_type": "code",
   "execution_count": null,
   "metadata": {},
   "outputs": [],
   "source": []
  }
 ],
 "metadata": {
  "colab": {
   "collapsed_sections": [],
   "name": "Aula03-Exercicios.ipynb",
   "provenance": []
  },
  "kernelspec": {
   "display_name": "Python 3",
   "language": "python",
   "name": "python3"
  },
  "language_info": {
   "codemirror_mode": {
    "name": "ipython",
    "version": 3
   },
   "file_extension": ".py",
   "mimetype": "text/x-python",
   "name": "python",
   "nbconvert_exporter": "python",
   "pygments_lexer": "ipython3",
   "version": "3.7.3"
  }
 },
 "nbformat": 4,
 "nbformat_minor": 1
}
